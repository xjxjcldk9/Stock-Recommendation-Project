{
 "cells": [
  {
   "cell_type": "code",
   "execution_count": 1,
   "metadata": {},
   "outputs": [],
   "source": [
    "import pandas as pd \n",
    "import yfinance as yf"
   ]
  },
  {
   "cell_type": "code",
   "execution_count": 2,
   "metadata": {},
   "outputs": [],
   "source": [
    "df = pd.read_csv('predicted_stocks.csv')"
   ]
  },
  {
   "cell_type": "code",
   "execution_count": 3,
   "metadata": {},
   "outputs": [],
   "source": [
    "def obtain_price(start_date, end_date):\n",
    "    first = True\n",
    "    for __, row in df.iterrows():\n",
    "        stock = yf.Ticker(str(row['代碼'])+'.TW')\n",
    "        stock_data = stock.history(start=start_date, end=end_date)\n",
    "        \n",
    "        if first:\n",
    "            stock_price = stock_data[['Close']]\n",
    "            stock_price = stock_price.rename(columns={'Close': row['股票名稱']})\n",
    "            first = False \n",
    "        else:\n",
    "            stock_price[row['股票名稱']] = stock_data[['Close']]\n",
    "            \n",
    "    return stock_price"
   ]
  },
  {
   "cell_type": "code",
   "execution_count": 4,
   "metadata": {},
   "outputs": [],
   "source": [
    "stock_price = obtain_price('2022-12-30', '2023-12-30')"
   ]
  },
  {
   "cell_type": "code",
   "execution_count": 5,
   "metadata": {},
   "outputs": [],
   "source": [
    "stock_price.to_csv('stock_prices.csv')"
   ]
  }
 ],
 "metadata": {
  "kernelspec": {
   "display_name": "myenv",
   "language": "python",
   "name": "python3"
  },
  "language_info": {
   "codemirror_mode": {
    "name": "ipython",
    "version": 3
   },
   "file_extension": ".py",
   "mimetype": "text/x-python",
   "name": "python",
   "nbconvert_exporter": "python",
   "pygments_lexer": "ipython3",
   "version": "3.11.5"
  }
 },
 "nbformat": 4,
 "nbformat_minor": 2
}
